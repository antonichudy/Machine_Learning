{
 "cells": [
  {
   "cell_type": "markdown",
   "id": "96e4eb26",
   "metadata": {},
   "source": [
    "### Wczytanie pakietów oraz danych"
   ]
  },
  {
   "cell_type": "code",
   "execution_count": 3,
   "id": "642aa625",
   "metadata": {},
   "outputs": [],
   "source": [
    "import pandas as pd\n",
    "import numpy as np"
   ]
  },
  {
   "cell_type": "code",
   "execution_count": 4,
   "id": "3e2c8573",
   "metadata": {},
   "outputs": [],
   "source": [
    "# https://drive.google.com/drive/folders/1A7dwlkOiW2BYmZWQmM_9emP6ia7SPv9U?usp=sharing\n",
    "Posts = pd.read_csv(\"Dane/Posts.csv.gz\", compression = 'gzip')\n",
    "Users = pd.read_csv(\"Dane/Users.csv.gz\", compression = 'gzip')\n",
    "PostLinks = pd.read_csv(\"Dane/PostLinks.csv.gz\", compression = 'gzip')\n",
    "Comments = pd.read_csv(\"Dane/Comments.csv.gz\", compression = 'gzip')"
   ]
  },
  {
   "cell_type": "markdown",
   "id": "fcb82fb3",
   "metadata": {},
   "source": [
    "### Tworze polaczenie do bazy danych"
   ]
  },
  {
   "cell_type": "code",
   "execution_count": 5,
   "id": "0054ee2a",
   "metadata": {},
   "outputs": [],
   "source": [
    "import os, os.path\n",
    "import sqlite3\n",
    "import tempfile\n",
    "\n",
    "# sciezka dostepu do bazy danych:\n",
    "baza = os.path.join(tempfile.mkdtemp(), 'przyklad.db')\n",
    "if os.path.isfile(baza): # jesli baza juz istneje\n",
    "    os.remove(baza) # usuniemy ja\n",
    "    \n",
    "conn = sqlite3.connect(baza) # połaczenie do bazy danych"
   ]
  },
  {
   "cell_type": "code",
   "execution_count": 6,
   "id": "61dcf1d9",
   "metadata": {},
   "outputs": [
    {
     "name": "stdout",
     "output_type": "stream",
     "text": [
      "\n"
     ]
    }
   ],
   "source": [
    "Comments.to_sql(\"Comments\", conn)\n",
    "PostLinks.to_sql(\"PostLinks\", conn)\n",
    "Posts.to_sql(\"Posts\", conn)\n",
    "Users.to_sql(\"Users\", conn)\n",
    "print(\"\")"
   ]
  },
  {
   "cell_type": "markdown",
   "id": "db798e63",
   "metadata": {},
   "source": [
    "### Import rozwiązań z pliku"
   ]
  },
  {
   "cell_type": "code",
   "execution_count": 7,
   "id": "736f846e",
   "metadata": {},
   "outputs": [],
   "source": [
    "from functions import *"
   ]
  },
  {
   "cell_type": "markdown",
   "id": "93777053",
   "metadata": {},
   "source": [
    "### Zadanie 1"
   ]
  },
  {
   "cell_type": "code",
   "execution_count": 8,
   "id": "dc4033a1",
   "metadata": {},
   "outputs": [],
   "source": [
    "df_sql_1 = pd.read_sql_query(\n",
    "    \"\"\"\n",
    "    SELECT Location, COUNT(*) AS Count\n",
    "    FROM (\n",
    "    SELECT Posts.OwnerUserId, Users.Id, Users.Location\n",
    "    FROM Users\n",
    "    JOIN Posts ON Users.Id = Posts.OwnerUserId\n",
    "    )\n",
    "    WHERE Location NOT IN ('')\n",
    "    GROUP BY Location\n",
    "    ORDER BY Count DESC\n",
    "    LIMIT 10\n",
    "    \"\"\", conn)"
   ]
  },
  {
   "cell_type": "code",
   "execution_count": 9,
   "id": "a86583bd",
   "metadata": {},
   "outputs": [],
   "source": [
    "# Import rozwiązan z pliku py\n",
    "df_pandas_1 = solution_1(Posts, Users)"
   ]
  },
  {
   "cell_type": "markdown",
   "id": "761b1450",
   "metadata": {},
   "source": [
    "### Porównanie wyników"
   ]
  },
  {
   "cell_type": "code",
   "execution_count": 10,
   "id": "0d4e1425",
   "metadata": {},
   "outputs": [
    {
     "data": {
      "text/plain": [
       "True"
      ]
     },
     "execution_count": 10,
     "metadata": {},
     "output_type": "execute_result"
    }
   ],
   "source": [
    "df_sql_1.equals(df_pandas_1)"
   ]
  },
  {
   "cell_type": "markdown",
   "id": "352ce16b",
   "metadata": {},
   "source": [
    "## Zadanie 2"
   ]
  },
  {
   "cell_type": "code",
   "execution_count": 11,
   "id": "929fc93c",
   "metadata": {},
   "outputs": [],
   "source": [
    "df_sql_2 = pd.read_sql_query(\n",
    "    \"\"\"\n",
    "    SELECT Posts.Title, RelatedTab.NumLinks\n",
    "    FROM\n",
    "    (\n",
    "    SELECT RelatedPostId AS PostId, COUNT(*) AS NumLinks\n",
    "    FROM PostLinks\n",
    "    GROUP BY RelatedPostId\n",
    "    ) AS RelatedTab\n",
    "    JOIN Posts ON RelatedTab.PostId=Posts.Id\n",
    "    WHERE Posts.PostTypeId=1\n",
    "    ORDER BY NumLinks DESC\n",
    "\n",
    "    \"\"\", conn)"
   ]
  },
  {
   "cell_type": "code",
   "execution_count": 12,
   "id": "c28b230b",
   "metadata": {},
   "outputs": [],
   "source": [
    "# Import rozwiązan z pliku py\n",
    "df_pandas_2 = solution_2(Posts, PostLinks)"
   ]
  },
  {
   "cell_type": "markdown",
   "id": "213d76d5",
   "metadata": {},
   "source": [
    "### Porównanie wyników"
   ]
  },
  {
   "cell_type": "code",
   "execution_count": 13,
   "id": "44f2c2e0",
   "metadata": {},
   "outputs": [
    {
     "data": {
      "text/plain": [
       "True"
      ]
     },
     "execution_count": 13,
     "metadata": {},
     "output_type": "execute_result"
    }
   ],
   "source": [
    "df_sql_2.equals(df_pandas_2)"
   ]
  },
  {
   "cell_type": "markdown",
   "id": "0e25e398",
   "metadata": {},
   "source": [
    "### Zadanie 3"
   ]
  },
  {
   "cell_type": "code",
   "execution_count": 14,
   "id": "b37698fb",
   "metadata": {},
   "outputs": [],
   "source": [
    "df_sql_3 = pd.read_sql_query(\n",
    "    \"\"\"\n",
    "    SELECT Title, CommentCount, ViewCount, CommentsTotalScore,\n",
    "    DisplayName, Reputation, Location\n",
    "    FROM (\n",
    "    SELECT Posts.OwnerUserId, Posts.Title, Posts.CommentCount, Posts.ViewCount,\n",
    "    CmtTotScr.CommentsTotalScore\n",
    "    FROM (\n",
    "    SELECT PostId, SUM(Score) AS CommentsTotalScore\n",
    "    FROM Comments\n",
    "    GROUP BY PostId\n",
    "    ) AS CmtTotScr\n",
    "    JOIN Posts ON Posts.Id = CmtTotScr.PostId\n",
    "    WHERE Posts.PostTypeId=1\n",
    "    ) AS PostsBestComments\n",
    "    JOIN Users ON PostsBestComments.OwnerUserId = Users.Id\n",
    "    ORDER BY CommentsTotalScore DESC\n",
    "    LIMIT 10\n",
    "\n",
    "    \"\"\", conn)"
   ]
  },
  {
   "cell_type": "code",
   "execution_count": 15,
   "id": "9553b987",
   "metadata": {},
   "outputs": [],
   "source": [
    "# Import rozwiązan z pliku py\n",
    "df_pandas_3 = solution_3(Comments, Posts, Users)"
   ]
  },
  {
   "cell_type": "markdown",
   "id": "e7fd1c5a",
   "metadata": {},
   "source": [
    "### Porównanie wyników"
   ]
  },
  {
   "cell_type": "code",
   "execution_count": 16,
   "id": "8d2ac254",
   "metadata": {},
   "outputs": [
    {
     "data": {
      "text/plain": [
       "True"
      ]
     },
     "execution_count": 16,
     "metadata": {},
     "output_type": "execute_result"
    }
   ],
   "source": [
    "df_sql_3.equals(df_pandas_3)"
   ]
  },
  {
   "cell_type": "markdown",
   "id": "ca27e624",
   "metadata": {},
   "source": [
    "### Zadanie 4"
   ]
  },
  {
   "cell_type": "code",
   "execution_count": 17,
   "id": "927690bd",
   "metadata": {},
   "outputs": [],
   "source": [
    "df_sql_4 = pd.read_sql_query(\n",
    "    \"\"\"\n",
    "    SELECT DisplayName, QuestionsNumber, AnswersNumber, Location,\n",
    "    Reputation, UpVotes, DownVotes\n",
    "    FROM (\n",
    "    SELECT *\n",
    "    FROM (\n",
    "    SELECT COUNT(*) as AnswersNumber, OwnerUserId\n",
    "    FROM Posts\n",
    "    WHERE PostTypeId = 2\n",
    "    GROUP BY OwnerUserId\n",
    "    ) AS Answers\n",
    "    JOIN\n",
    "    (\n",
    "    SELECT COUNT(*) as QuestionsNumber, OwnerUserId\n",
    "    FROM Posts\n",
    "    WHERE PostTypeId = 1\n",
    "    GROUP BY OwnerUserId\n",
    "    ) AS Questions\n",
    "    ON Answers.OwnerUserId = Questions.OwnerUserId\n",
    "    WHERE AnswersNumber > QuestionsNumber\n",
    "    ORDER BY AnswersNumber DESC\n",
    "    LIMIT 5\n",
    "    ) AS PostsCounts\n",
    "    JOIN Users ON PostsCounts.OwnerUserId = Users.Id\n",
    "    \n",
    "    \"\"\", conn)"
   ]
  },
  {
   "cell_type": "code",
   "execution_count": 18,
   "id": "ebe341e5",
   "metadata": {},
   "outputs": [],
   "source": [
    "# Import rozwiązan z pliku py\n",
    "df_pandas_4 = solution_4(Posts, Users)"
   ]
  },
  {
   "cell_type": "markdown",
   "id": "2e6d37cc",
   "metadata": {},
   "source": [
    "### Porównanie wyników"
   ]
  },
  {
   "cell_type": "code",
   "execution_count": 19,
   "id": "acef73b1",
   "metadata": {},
   "outputs": [
    {
     "data": {
      "text/plain": [
       "True"
      ]
     },
     "execution_count": 19,
     "metadata": {},
     "output_type": "execute_result"
    }
   ],
   "source": [
    "df_sql_4.equals(df_pandas_4)"
   ]
  },
  {
   "cell_type": "markdown",
   "id": "885e56fc",
   "metadata": {},
   "source": [
    "### Zadanie 5"
   ]
  },
  {
   "cell_type": "code",
   "execution_count": 20,
   "id": "14b89cf5",
   "metadata": {},
   "outputs": [],
   "source": [
    "df_sql_5 = pd.read_sql_query(\n",
    "    \"\"\"\n",
    "    SELECT\n",
    "    Users.AccountId,\n",
    "    Users.DisplayName,\n",
    "    Users.Location,\n",
    "    AVG(PostAuth.AnswersCount) as AverageAnswersCount\n",
    "    FROM\n",
    "    (\n",
    "    SELECT\n",
    "    AnsCount.AnswersCount,\n",
    "    Posts.Id,\n",
    "    Posts.OwnerUserId\n",
    "    FROM (\n",
    "    SELECT Posts.ParentId, COUNT(*) AS AnswersCount\n",
    "    FROM Posts\n",
    "    WHERE Posts.PostTypeId = 2\n",
    "    GROUP BY Posts.ParentId\n",
    "    ) AS AnsCount\n",
    "    JOIN Posts ON Posts.Id = AnsCount.ParentId\n",
    "    ) AS PostAuth\n",
    "    JOIN Users ON Users.AccountId=PostAuth.OwnerUserId\n",
    "    GROUP BY OwnerUserId\n",
    "    ORDER BY AverageAnswersCount DESC\n",
    "    LIMIT 10\n",
    "    \n",
    "    \"\"\", conn)"
   ]
  },
  {
   "cell_type": "code",
   "execution_count": 21,
   "id": "640713df",
   "metadata": {},
   "outputs": [],
   "source": [
    "# Import rozwiązan z pliku py\n",
    "df_pandas_5 = solution_5(Posts, Users)"
   ]
  },
  {
   "cell_type": "markdown",
   "id": "5a09218a",
   "metadata": {},
   "source": [
    "### Porównanie wyników"
   ]
  },
  {
   "cell_type": "code",
   "execution_count": 22,
   "id": "15d9d679",
   "metadata": {},
   "outputs": [
    {
     "data": {
      "text/plain": [
       "True"
      ]
     },
     "execution_count": 22,
     "metadata": {},
     "output_type": "execute_result"
    }
   ],
   "source": [
    "df_sql_5.equals(df_pandas_5)"
   ]
  }
 ],
 "metadata": {
  "kernelspec": {
   "display_name": "Python 3 (ipykernel)",
   "language": "python",
   "name": "python3"
  },
  "language_info": {
   "codemirror_mode": {
    "name": "ipython",
    "version": 3
   },
   "file_extension": ".py",
   "mimetype": "text/x-python",
   "name": "python",
   "nbconvert_exporter": "python",
   "pygments_lexer": "ipython3",
   "version": "3.9.12"
  }
 },
 "nbformat": 4,
 "nbformat_minor": 5
}
